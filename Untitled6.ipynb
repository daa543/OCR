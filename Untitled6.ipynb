{
 "cells": [
  {
   "cell_type": "code",
   "execution_count": 2,
   "id": "72f279c0",
   "metadata": {},
   "outputs": [
    {
     "data": {
      "text/plain": [
       "-1"
      ]
     },
     "execution_count": 2,
     "metadata": {},
     "output_type": "execute_result"
    }
   ],
   "source": [
    "# Python program to illustrate\n",
    "# template matching\n",
    "import cv2\n",
    "import numpy as np\n",
    "\n",
    "# Read the main image\n",
    "img_rgb =  cv2.imread('D:/faculty files/Level 2/Level_2 __Semester_2/Pattern Recognition Dr Nader Mahmoud/Project/test30.png')\n",
    "\n",
    "# Convert it to grayscale\n",
    "img_gray = cv2.cvtColor(img_rgb, cv2.COLOR_BGR2GRAY)\n",
    "\n",
    "# Read the template\n",
    "templat =  cv2.imread('D:/faculty files/Level 2/Level_2 __Semester_2/Pattern Recognition Dr Nader Mahmoud/Project/temp/P.png')\n",
    "template= cv2.cvtColor(templat, cv2.COLOR_BGR2GRAY)\n"
   ]
  },
  {
   "cell_type": "code",
   "execution_count": 3,
   "id": "2bd50e4d",
   "metadata": {},
   "outputs": [],
   "source": [
    "\n",
    "# Store width and height of template in w and h\n",
    "# w, h = template.shape[::-1]\n",
    "h, w = template.shape[:2]\n"
   ]
  },
  {
   "cell_type": "code",
   "execution_count": 4,
   "id": "4f44533b",
   "metadata": {
    "scrolled": false
   },
   "outputs": [],
   "source": [
    "res = cv2.matchTemplate(img_gray, template, cv2.TM_CCOEFF_NORMED)\n",
    "  \n"
   ]
  },
  {
   "cell_type": "code",
   "execution_count": 5,
   "id": "3c6bf0dd",
   "metadata": {},
   "outputs": [],
   "source": [
    "\n",
    "# Specify a threshold\n",
    "threshold = 0.8\n",
    "  "
   ]
  },
  {
   "cell_type": "code",
   "execution_count": 9,
   "id": "2364bbaa",
   "metadata": {},
   "outputs": [
    {
     "data": {
      "text/plain": [
       "-1"
      ]
     },
     "execution_count": 9,
     "metadata": {},
     "output_type": "execute_result"
    }
   ],
   "source": [
    "\n",
    "# Store the coordinates of matched area in a numpy array\n",
    "loc = np.where(res >= threshold)\n",
    "  \n",
    "# Draw a rectangle around the matched region.\n",
    "for pt in zip(*loc[::-1]):\n",
    "    cv2.rectangle(img_rgb, pt, (pt[0] + w, pt[1] + h), (0, 0, 255), 2)\n",
    "\n",
    "#     Show the final image with the matched area.\n",
    "cv2.imshow('Detected', img_rgb)\n",
    "cv2.waitKey(0)"
   ]
  }
 ],
 "metadata": {
  "kernelspec": {
   "display_name": "Python 3 (ipykernel)",
   "language": "python",
   "name": "python3"
  },
  "language_info": {
   "codemirror_mode": {
    "name": "ipython",
    "version": 3
   },
   "file_extension": ".py",
   "mimetype": "text/x-python",
   "name": "python",
   "nbconvert_exporter": "python",
   "pygments_lexer": "ipython3",
   "version": "3.9.13"
  }
 },
 "nbformat": 4,
 "nbformat_minor": 5
}
